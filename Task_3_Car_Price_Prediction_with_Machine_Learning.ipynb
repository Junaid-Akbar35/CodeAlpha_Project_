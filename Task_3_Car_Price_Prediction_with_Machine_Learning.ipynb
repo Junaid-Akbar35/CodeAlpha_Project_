{
  "cells": [
    {
      "cell_type": "markdown",
      "metadata": {
        "id": "view-in-github",
        "colab_type": "text"
      },
      "source": [
        "<a href=\"https://colab.research.google.com/github/Junaid-Akbar35/CodeAlpha_Project_/blob/main/Task_3_Car_Price_Prediction_with_Machine_Learning.ipynb\" target=\"_parent\"><img src=\"https://colab.research.google.com/assets/colab-badge.svg\" alt=\"Open In Colab\"/></a>"
      ]
    },
    {
      "cell_type": "markdown",
      "metadata": {
        "id": "7nchQeSHF-ZZ"
      },
      "source": [
        "### **Task 3: Car Price Prediction with Machine Learning**\n",
        "\n",
        "This task involves building a machine learning model to predict the price of a car based on its features. It is a regression problem where we aim to learn relationships between car features and their prices.\n",
        "\n",
        "---\n",
        "\n",
        "### **Dataset Overview**\n",
        "- **Source**: [Car Price Dataset](https://raw.githubusercontent.com/amankharwal/Website-data/master/CarPrice.csv).\n",
        "- **Features**:\n",
        "  - **CarName**: Name of the car (brand and model).\n",
        "  - **FuelType**: Type of fuel used (e.g., gas, diesel).\n",
        "  - **Horsepower**: Power output of the car's engine.\n",
        "  - **Mileage**: Fuel efficiency.\n",
        "  - **Price**: Target variable, representing the price of the car.\n",
        "\n",
        "---\n",
        "\n",
        "### **Analysis Objectives**\n",
        "1. Understand and preprocess the dataset.\n",
        "2. Train a regression model to predict car prices.\n",
        "3. Evaluate model performance using appropriate metrics.\n",
        "\n",
        "---\n",
        "\n",
        "\n",
        "\n",
        "\n"
      ]
    },
    {
      "cell_type": "markdown",
      "source": [
        "### **Step 1: Import Libraries**"
      ],
      "metadata": {
        "id": "YhCx4wjks0L-"
      }
    },
    {
      "cell_type": "code",
      "source": [
        "# Import necessary libraries\n",
        "import pandas as pd\n",
        "import numpy as np\n",
        "import matplotlib.pyplot as plt\n",
        "import seaborn as sns\n",
        "from sklearn.model_selection import train_test_split\n",
        "from sklearn.preprocessing import StandardScaler, LabelEncoder\n",
        "from sklearn.linear_model import LinearRegression\n",
        "from sklearn.metrics import mean_squared_error, r2_score\n"
      ],
      "metadata": {
        "id": "kciCOXHql_GM"
      },
      "execution_count": 79,
      "outputs": []
    },
    {
      "cell_type": "markdown",
      "source": [
        "### **Step 2: Load the Dataset**"
      ],
      "metadata": {
        "id": "j1Zqh3b7rBw2"
      }
    },
    {
      "cell_type": "code",
      "source": [
        "# Load the dataset\n",
        "url = \"https://raw.githubusercontent.com/amankharwal/Website-data/master/CarPrice.csv\"\n",
        "df = pd.read_csv(url)\n",
        "\n",
        "# Display the first few rows\n",
        "print(\"First 5 Rows of the Dataset:\")\n",
        "print(df.head())\n",
        "\n",
        "# Check dataset structure\n",
        "print(\"\\nDataset Info:\")\n",
        "df.info()\n"
      ],
      "metadata": {
        "colab": {
          "base_uri": "https://localhost:8080/"
        },
        "id": "olC3U6CVmqpZ",
        "outputId": "51f4c748-678c-46b9-cfef-8ecba96ee75a"
      },
      "execution_count": 80,
      "outputs": [
        {
          "output_type": "stream",
          "name": "stdout",
          "text": [
            "First 5 Rows of the Dataset:\n",
            "   car_ID  symboling                   CarName fueltype aspiration doornumber  \\\n",
            "0       1          3        alfa-romero giulia      gas        std        two   \n",
            "1       2          3       alfa-romero stelvio      gas        std        two   \n",
            "2       3          1  alfa-romero Quadrifoglio      gas        std        two   \n",
            "3       4          2               audi 100 ls      gas        std       four   \n",
            "4       5          2                audi 100ls      gas        std       four   \n",
            "\n",
            "       carbody drivewheel enginelocation  wheelbase  carlength  carwidth  \\\n",
            "0  convertible        rwd          front       88.6      168.8      64.1   \n",
            "1  convertible        rwd          front       88.6      168.8      64.1   \n",
            "2    hatchback        rwd          front       94.5      171.2      65.5   \n",
            "3        sedan        fwd          front       99.8      176.6      66.2   \n",
            "4        sedan        4wd          front       99.4      176.6      66.4   \n",
            "\n",
            "   carheight  curbweight enginetype cylindernumber  enginesize fuelsystem  \\\n",
            "0       48.8        2548       dohc           four         130       mpfi   \n",
            "1       48.8        2548       dohc           four         130       mpfi   \n",
            "2       52.4        2823       ohcv            six         152       mpfi   \n",
            "3       54.3        2337        ohc           four         109       mpfi   \n",
            "4       54.3        2824        ohc           five         136       mpfi   \n",
            "\n",
            "   boreratio  stroke  compressionratio  horsepower  peakrpm  citympg  \\\n",
            "0       3.47    2.68               9.0         111     5000       21   \n",
            "1       3.47    2.68               9.0         111     5000       21   \n",
            "2       2.68    3.47               9.0         154     5000       19   \n",
            "3       3.19    3.40              10.0         102     5500       24   \n",
            "4       3.19    3.40               8.0         115     5500       18   \n",
            "\n",
            "   highwaympg    price  \n",
            "0          27  13495.0  \n",
            "1          27  16500.0  \n",
            "2          26  16500.0  \n",
            "3          30  13950.0  \n",
            "4          22  17450.0  \n",
            "\n",
            "Dataset Info:\n",
            "<class 'pandas.core.frame.DataFrame'>\n",
            "RangeIndex: 205 entries, 0 to 204\n",
            "Data columns (total 26 columns):\n",
            " #   Column            Non-Null Count  Dtype  \n",
            "---  ------            --------------  -----  \n",
            " 0   car_ID            205 non-null    int64  \n",
            " 1   symboling         205 non-null    int64  \n",
            " 2   CarName           205 non-null    object \n",
            " 3   fueltype          205 non-null    object \n",
            " 4   aspiration        205 non-null    object \n",
            " 5   doornumber        205 non-null    object \n",
            " 6   carbody           205 non-null    object \n",
            " 7   drivewheel        205 non-null    object \n",
            " 8   enginelocation    205 non-null    object \n",
            " 9   wheelbase         205 non-null    float64\n",
            " 10  carlength         205 non-null    float64\n",
            " 11  carwidth          205 non-null    float64\n",
            " 12  carheight         205 non-null    float64\n",
            " 13  curbweight        205 non-null    int64  \n",
            " 14  enginetype        205 non-null    object \n",
            " 15  cylindernumber    205 non-null    object \n",
            " 16  enginesize        205 non-null    int64  \n",
            " 17  fuelsystem        205 non-null    object \n",
            " 18  boreratio         205 non-null    float64\n",
            " 19  stroke            205 non-null    float64\n",
            " 20  compressionratio  205 non-null    float64\n",
            " 21  horsepower        205 non-null    int64  \n",
            " 22  peakrpm           205 non-null    int64  \n",
            " 23  citympg           205 non-null    int64  \n",
            " 24  highwaympg        205 non-null    int64  \n",
            " 25  price             205 non-null    float64\n",
            "dtypes: float64(8), int64(8), object(10)\n",
            "memory usage: 41.8+ KB\n"
          ]
        }
      ]
    },
    {
      "cell_type": "markdown",
      "source": [
        "### **Step 3: Handle Missing Values and Clean Data**"
      ],
      "metadata": {
        "id": "mXd9lcRNrVIU"
      }
    },
    {
      "cell_type": "code",
      "source": [
        "# Check for missing values\n",
        "print(\"\\nMissing Values:\")\n",
        "print(df.isnull().sum())\n",
        "\n",
        "# Drop duplicates if any\n",
        "df.drop_duplicates(inplace=True)\n",
        "\n",
        "# No missing values in the dataset\n"
      ],
      "metadata": {
        "colab": {
          "base_uri": "https://localhost:8080/"
        },
        "id": "ApoFoQWqmtb-",
        "outputId": "67e4dd03-da1b-4bdf-9c55-63cdae4b7152"
      },
      "execution_count": 81,
      "outputs": [
        {
          "output_type": "stream",
          "name": "stdout",
          "text": [
            "\n",
            "Missing Values:\n",
            "car_ID              0\n",
            "symboling           0\n",
            "CarName             0\n",
            "fueltype            0\n",
            "aspiration          0\n",
            "doornumber          0\n",
            "carbody             0\n",
            "drivewheel          0\n",
            "enginelocation      0\n",
            "wheelbase           0\n",
            "carlength           0\n",
            "carwidth            0\n",
            "carheight           0\n",
            "curbweight          0\n",
            "enginetype          0\n",
            "cylindernumber      0\n",
            "enginesize          0\n",
            "fuelsystem          0\n",
            "boreratio           0\n",
            "stroke              0\n",
            "compressionratio    0\n",
            "horsepower          0\n",
            "peakrpm             0\n",
            "citympg             0\n",
            "highwaympg          0\n",
            "price               0\n",
            "dtype: int64\n"
          ]
        }
      ]
    },
    {
      "cell_type": "markdown",
      "source": [
        "### **Step 5: Remove Outliers**"
      ],
      "metadata": {
        "id": "m-ytIhRTrugt"
      }
    },
    {
      "cell_type": "code",
      "source": [
        "# Remove outliers for numerical columns\n",
        "def remove_outliers(df, column):\n",
        "    q1 = df[column].quantile(0.25)\n",
        "    q3 = df[column].quantile(0.75)\n",
        "    iqr = q3 - q1\n",
        "    lower_bound = q1 - 1.5 * iqr\n",
        "    upper_bound = q3 + 1.5 * iqr\n",
        "    return df[(df[column] >= lower_bound) & (df[column] <= upper_bound)]\n",
        "\n",
        "for col in ['price', 'horsepower', 'enginesize']:\n",
        "    df = remove_outliers(df, col)\n",
        "\n",
        "print(\"\\nShape after removing outliers:\", df.shape)\n"
      ],
      "metadata": {
        "colab": {
          "base_uri": "https://localhost:8080/"
        },
        "id": "ti4UfXP7m5-3",
        "outputId": "6166ab67-c97c-4d29-dd76-f3771d8a6ea7"
      },
      "execution_count": 83,
      "outputs": [
        {
          "output_type": "stream",
          "name": "stdout",
          "text": [
            "\n",
            "Shape after removing outliers: (189, 72)\n"
          ]
        }
      ]
    },
    {
      "cell_type": "markdown",
      "source": [
        "### **Step 5: Feature Engineering**\n",
        "1. Extract the car brand from the `CarName` column.\n",
        "2. Apply **LabelEncoder** to categorical variables.\n",
        "\n"
      ],
      "metadata": {
        "id": "TDq1Wil2rc36"
      }
    },
    {
      "cell_type": "code",
      "source": [
        "# prompt: jo catagorical colums hain unki values ko numeric ke andar convert kar do\n",
        "\n",
        "# Create a LabelEncoder object\n",
        "le = LabelEncoder()\n",
        "\n",
        "# Iterate through each column in the DataFrame\n",
        "for col in df.columns:\n",
        "    # Check if the column is of object type (categorical)\n",
        "    if df[col].dtype == 'object':\n",
        "        # Fit and transform the column using LabelEncoder\n",
        "        df[col] = le.fit_transform(df[col])"
      ],
      "metadata": {
        "id": "nhqjrQAHpaxU"
      },
      "execution_count": 85,
      "outputs": []
    },
    {
      "cell_type": "markdown",
      "source": [
        "### **Step 7: Split Data into Train and Test Sets**"
      ],
      "metadata": {
        "id": "BqWPus7EsKDY"
      }
    },
    {
      "cell_type": "code",
      "source": [
        "# Define features (X) and target (y)\n",
        "X = df.drop('price', axis=1)\n",
        "y = df['price']\n",
        "\n",
        "# Split the data into training and testing sets\n",
        "X_train, X_test, y_train, y_test = train_test_split(X, y, test_size=0.2, random_state=42)\n",
        "\n",
        "print(\"\\nTraining Set Shape:\", X_train.shape)\n",
        "print(\"Testing Set Shape:\", X_test.shape)\n"
      ],
      "metadata": {
        "colab": {
          "base_uri": "https://localhost:8080/"
        },
        "id": "m2wSdPnIptGu",
        "outputId": "929f60ef-3068-4d5d-aacf-62d5295ea012"
      },
      "execution_count": 86,
      "outputs": [
        {
          "output_type": "stream",
          "name": "stdout",
          "text": [
            "\n",
            "Training Set Shape: (151, 71)\n",
            "Testing Set Shape: (38, 71)\n"
          ]
        }
      ]
    },
    {
      "cell_type": "markdown",
      "source": [
        "### **Step 8: Train the Linear Regression Mode**"
      ],
      "metadata": {
        "id": "5SbV1Bs_sQcD"
      }
    },
    {
      "cell_type": "code",
      "source": [
        "# Train the model\n",
        "model = LinearRegression()\n",
        "model.fit(X_train, y_train)\n",
        "\n",
        "# Display model coefficients\n",
        "print(\"\\nModel Coefficients:\")\n",
        "for feature, coef in zip(X.columns, model.coef_):\n",
        "    print(f\"{feature}: {coef}\")\n"
      ],
      "metadata": {
        "colab": {
          "base_uri": "https://localhost:8080/"
        },
        "id": "aCc-qeh0pto0",
        "outputId": "d41cbdff-1961-486b-d9fb-b94e03e03dc8"
      },
      "execution_count": 87,
      "outputs": [
        {
          "output_type": "stream",
          "name": "stdout",
          "text": [
            "\n",
            "Model Coefficients:\n",
            "car_ID: 180.60874942524967\n",
            "symboling: 288.400437552693\n",
            "wheelbase: 164.2469777556571\n",
            "carlength: -108.54330704299355\n",
            "carwidth: 299.2169212884801\n",
            "carheight: -197.67480299621457\n",
            "curbweight: 2498.29924581822\n",
            "enginesize: 150.32554021031683\n",
            "boreratio: -535.2694117530409\n",
            "stroke: -1326.333953531681\n",
            "compressionratio: -441.27912813040894\n",
            "horsepower: -283.73685958947135\n",
            "peakrpm: 0.3192955988779431\n",
            "citympg: -628.0895933417305\n",
            "highwaympg: 897.1106243150716\n",
            "fueltype_gas: -3441.717356036661\n",
            "aspiration_turbo: 2221.579392316906\n",
            "doornumber_two: -498.4779869115646\n",
            "carbody_hardtop: -753.8380865562258\n",
            "carbody_hatchback: -563.980495111754\n",
            "carbody_sedan: -287.1766468537553\n",
            "carbody_wagon: -512.3968755165333\n",
            "drivewheel_fwd: -282.76230466427296\n",
            "drivewheel_rwd: 201.61870263015226\n",
            "enginelocation_rear: 2.2737367544323206e-12\n",
            "enginetype_dohcv: -2.7284841053187847e-12\n",
            "enginetype_l: -2476.1950186304475\n",
            "enginetype_ohc: -645.7122421192731\n",
            "enginetype_ohcf: -5985.596162886395\n",
            "enginetype_ohcv: -1633.5842070674303\n",
            "enginetype_rotor: 994.5648724359594\n",
            "cylindernumber_five: -229.53204368686784\n",
            "cylindernumber_four: -1408.390519068578\n",
            "cylindernumber_six: 643.357690319474\n",
            "cylindernumber_three: -3.410605131648481e-12\n",
            "cylindernumber_twelve: 9.094947017729282e-13\n",
            "cylindernumber_two: 994.5648724359535\n",
            "fuelsystem_2bbl: 1864.044114804407\n",
            "fuelsystem_4bbl: -1483.094110163555\n",
            "fuelsystem_idi: 3441.717356036664\n",
            "fuelsystem_mfi: 2230.878556665518\n",
            "fuelsystem_mpfi: 1810.084208277577\n",
            "fuelsystem_spdi: 2176.4812882463452\n",
            "fuelsystem_spfi: 1280.0519166343006\n",
            "Brand_alfa-romero: 19017.27907637707\n",
            "Brand_audi: 19607.5103190819\n",
            "Brand_bmw: 21232.082909808083\n",
            "Brand_buick: 12333.816326257362\n",
            "Brand_chevrolet: 10654.899290021378\n",
            "Brand_dodge: 9223.724477582884\n",
            "Brand_honda: 11020.051577590293\n",
            "Brand_isuzu: 7613.438118368203\n",
            "Brand_jaguar: 4.547473508864641e-13\n",
            "Brand_maxda: 5696.327339318503\n",
            "Brand_mazda: 6146.924487434635\n",
            "Brand_mercury: 4142.845125926024\n",
            "Brand_mitsubishi: -954.8089345165163\n",
            "Brand_nissan: -1056.0933379527428\n",
            "Brand_peugeot: -2476.195018630452\n",
            "Brand_plymouth: -8238.301763275445\n",
            "Brand_porcshce: 0.0\n",
            "Brand_porsche: 2117.3088789351496\n",
            "Brand_renault: -6945.964062949039\n",
            "Brand_saab: -4815.209855677715\n",
            "Brand_subaru: -5985.596162886391\n",
            "Brand_toyota: -14204.973374645237\n",
            "Brand_toyouta: -16332.581391616864\n",
            "Brand_vokswagen: -17636.694774655596\n",
            "Brand_volkswagen: -17600.171438431345\n",
            "Brand_volvo: -15756.932549334531\n",
            "Brand_vw: -16802.685262129606\n"
          ]
        }
      ]
    },
    {
      "cell_type": "markdown",
      "source": [
        "### **Step 9: Evaluate the Model**"
      ],
      "metadata": {
        "id": "IhQciUstsZqR"
      }
    },
    {
      "cell_type": "code",
      "source": [
        "# Predict on the test set\n",
        "y_pred = model.predict(X_test)\n",
        "\n",
        "# Calculate evaluation metrics\n",
        "mse = mean_squared_error(y_test, y_pred)\n",
        "rmse = np.sqrt(mse)\n",
        "r2 = r2_score(y_test, y_pred)\n",
        "\n",
        "print(f\"\\nMean Squared Error (MSE): {mse:.4f}\")\n",
        "print(f\"Root Mean Squared Error (RMSE): {rmse:.4f}\")\n",
        "print(f\"R-squared Score: {r2:.4f}\")\n",
        "\n",
        "# Scatter plot of actual vs predicted prices\n",
        "plt.figure(figsize=(8, 5))\n",
        "plt.scatter(y_test, y_pred, alpha=0.7, color='blue')\n",
        "plt.plot([min(y_test), max(y_test)], [min(y_test), max(y_test)], color='red', linewidth=2)\n",
        "plt.title(\"Actual vs Predicted Car Prices\")\n",
        "plt.xlabel(\"Actual Prices\")\n",
        "plt.ylabel(\"Predicted Prices\")\n",
        "plt.show()\n"
      ],
      "metadata": {
        "colab": {
          "base_uri": "https://localhost:8080/",
          "height": 556
        },
        "id": "OpsbVS6EpzLf",
        "outputId": "46da94a1-dc46-41d4-9f43-d0fb25ad66e1"
      },
      "execution_count": 88,
      "outputs": [
        {
          "output_type": "stream",
          "name": "stdout",
          "text": [
            "\n",
            "Mean Squared Error (MSE): 2595464.1469\n",
            "Root Mean Squared Error (RMSE): 1611.0444\n",
            "R-squared Score: 0.8701\n"
          ]
        },
        {
          "output_type": "display_data",
          "data": {
            "text/plain": [
              "<Figure size 800x500 with 1 Axes>"
            ],
            "image/png": "[encoded data removed]"
          },
          "metadata": {}
        }
      ]
    },
    {
      "cell_type": "markdown",
      "source": [
        "### **Step 10. Save the trained model**"
      ],
      "metadata": {
        "id": "eiTS4IQfsfJD"
      }
    },
    {
      "cell_type": "code",
      "source": [
        "# Save the trained model\n",
        "import joblib\n",
        "joblib.dump(model, \"car_price_model.pkl\")\n",
        "print(\"Model saved as 'car_price_model.pkl'\")\n"
      ],
      "metadata": {
        "colab": {
          "base_uri": "https://localhost:8080/"
        },
        "id": "07ageIrZqpkH",
        "outputId": "5a2853f0-59ff-4df1-aefa-5578811e4b7e"
      },
      "execution_count": 91,
      "outputs": [
        {
          "output_type": "stream",
          "name": "stdout",
          "text": [
            "Model saved as 'car_price_model.pkl'\n"
          ]
        }
      ]
    }
  ],
  "metadata": {
    "accelerator": "GPU",
    "colab": {
      "gpuType": "T4",
      "provenance": [],
      "toc_visible": true,
      "authorship_tag": "ABX9TyNAKwYzWrgmhFXTy9yYiSGR",
      "include_colab_link": true
    },
    "kernelspec": {
      "display_name": "Python 3",
      "name": "python3"
    },
    "language_info": {
      "name": "python"
    }
  },
  "nbformat": 4,
  "nbformat_minor": 0
}